{
 "cells": [
  {
   "cell_type": "markdown",
   "metadata": {},
   "source": [
    "# Importing Data"
   ]
  },
  {
   "cell_type": "code",
   "execution_count": 3,
   "metadata": {},
   "outputs": [
    {
     "name": "stdout",
     "output_type": "stream",
     "text": [
      "<class 'pandas.core.frame.DataFrame'>\n",
      "RangeIndex: 217473 entries, 0 to 217472\n",
      "Data columns (total 23 columns):\n",
      " #   Column                          Non-Null Count   Dtype  \n",
      "---  ------                          --------------   -----  \n",
      " 0   Unnamed: 0                      217473 non-null  int64  \n",
      " 1   app_id                          217473 non-null  int64  \n",
      " 2   app_name                        217473 non-null  object \n",
      " 3   review_id                       217473 non-null  int64  \n",
      " 4   language                        217473 non-null  object \n",
      " 5   review                          217120 non-null  object \n",
      " 6   timestamp_created               217473 non-null  int64  \n",
      " 7   timestamp_updated               217473 non-null  int64  \n",
      " 8   recommended                     217473 non-null  bool   \n",
      " 9   votes_helpful                   217473 non-null  int64  \n",
      " 10  votes_funny                     217473 non-null  int64  \n",
      " 11  weighted_vote_score             217473 non-null  float64\n",
      " 12  comment_count                   217473 non-null  int64  \n",
      " 13  steam_purchase                  217473 non-null  bool   \n",
      " 14  received_for_free               217473 non-null  bool   \n",
      " 15  written_during_early_access     217473 non-null  bool   \n",
      " 16  author.steamid                  217473 non-null  int64  \n",
      " 17  author.num_games_owned          217473 non-null  int64  \n",
      " 18  author.num_reviews              217473 non-null  int64  \n",
      " 19  author.playtime_forever         217473 non-null  float64\n",
      " 20  author.playtime_last_two_weeks  217473 non-null  float64\n",
      " 21  author.playtime_at_review       217179 non-null  float64\n",
      " 22  author.last_played              217473 non-null  float64\n",
      "dtypes: bool(4), float64(5), int64(11), object(3)\n",
      "memory usage: 32.4+ MB\n",
      "Reading finished!\n"
     ]
    }
   ],
   "source": [
    "import numpy as np\n",
    "import pandas as pd\n",
    "from scipy.stats import pearsonr\n",
    "import datetime as dt\n",
    "from numpy import mean\n",
    "import matplotlib.pyplot as plt\n",
    "n = 100  # every 100th line = 1% of the lines\n",
    "df = pd.read_csv(\"steam_reviews.csv\", header=0, skiprows=lambda i: i % n != 0)\n",
    "pd.set_option('display.max_columns', 23)\n",
    "df.info()\n",
    "print('Reading finished!')"
   ]
  },
  {
   "cell_type": "markdown",
   "metadata": {},
   "source": [
    "# RQ3"
   ]
  },
  {
   "cell_type": "markdown",
   "metadata": {},
   "source": [
    "What is the most common time that authors review an application? For example, authors usually write a review at 17:44."
   ]
  },
  {
   "cell_type": "code",
   "execution_count": 4,
   "metadata": {},
   "outputs": [
    {
     "data": {
      "text/plain": [
       "15:05:00    229\n",
       "14:31:00    227\n",
       "15:25:00    224\n",
       "16:12:00    222\n",
       "16:30:00    216\n",
       "           ... \n",
       "06:46:00     98\n",
       "06:02:00     97\n",
       "07:01:00     97\n",
       "06:15:00     88\n",
       "03:39:00     87\n",
       "Name: timestamp_created, Length: 1440, dtype: int64"
      ]
     },
     "execution_count": 4,
     "metadata": {},
     "output_type": "execute_result"
    }
   ],
   "source": [
    "#Converting to date and time format and drop sec\n",
    "RQ3_1 = pd.DataFrame(df['timestamp_created'])\n",
    "RQ3_1['timestamp_created'] = pd.to_datetime(RQ3_1['timestamp_created'],unit='s')\n",
    "RQ3_1[\"timestamp_created\"] = RQ3_1[\"timestamp_created\"].dt.time\n",
    "RQ3_1['timestamp_created'] = RQ3_1['timestamp_created'].apply(lambda t: t.replace(second=0))\n",
    "RQ3_1['timestamp_created'].value_counts()"
   ]
  },
  {
   "cell_type": "markdown",
   "metadata": {},
   "source": [
    "Create a function that receives as a parameter a list of time intervals and returns the plot the number of reviews for each of the intervals."
   ]
  },
  {
   "cell_type": "code",
   "execution_count": 5,
   "metadata": {},
   "outputs": [],
   "source": [
    "#Converting to date and time format\n",
    "RQ3_2 = pd.DataFrame(df['timestamp_created'])\n",
    "RQ3_2['timestamp_created'] = pd.DataFrame(df['timestamp_created'])\n",
    "RQ3_2['timestamp_created'] = pd.to_datetime(RQ3_2['timestamp_created'],unit='s')\n",
    "RQ3_2[\"timestamp_created\"] = RQ3_2[\"timestamp_created\"].dt.time"
   ]
  },
  {
   "cell_type": "code",
   "execution_count": 6,
   "metadata": {
    "scrolled": true
   },
   "outputs": [],
   "source": [
    "def num_of_review():\n",
    "    Initial_time = pd.to_datetime(input(\"Initial_time:\")).time()\n",
    "    Final_time = pd.to_datetime(input(\"Final_time:\")).time()\n",
    "    review = RQ3_2[RQ3_2[\"timestamp_created\"]>=Initial_time]\n",
    "    review1 = RQ3_2[RQ3_2[\"timestamp_created\"]<=Final_time]\n",
    "    int_review = pd.merge(review, review1, how ='inner', on =['timestamp_created'])\n",
    "    print(int_review)\n",
    "    print(\"Number of review:\" ,len(int_review))"
   ]
  },
  {
   "cell_type": "code",
   "execution_count": 7,
   "metadata": {},
   "outputs": [
    {
     "name": "stdout",
     "output_type": "stream",
     "text": [
      "Initial_time:14:00:00\n",
      "Final_time:17:00:00\n",
      "       timestamp_created\n",
      "0               14:03:33\n",
      "1               14:03:33\n",
      "2               14:03:33\n",
      "3               14:03:33\n",
      "4               14:03:33\n",
      "...                  ...\n",
      "140688          15:15:14\n",
      "140689          16:54:38\n",
      "140690          16:25:30\n",
      "140691          15:46:37\n",
      "140692          15:16:44\n",
      "\n",
      "[140693 rows x 1 columns]\n",
      "Number of review: 140693\n"
     ]
    }
   ],
   "source": [
    "num_of_review()"
   ]
  },
  {
   "cell_type": "markdown",
   "metadata": {},
   "source": [
    "Use the function that you created in the previous literal to plot the number of reviews between the following time intervals:"
   ]
  },
  {
   "cell_type": "code",
   "execution_count": 16,
   "metadata": {},
   "outputs": [],
   "source": [
    "Initial_time_list = ['06:00:00','11:00:00','14:00:00','17:00:00','20:00:00','00:00:00','03:00:00']\n",
    "Final_time_list = ['10:59:59','13:59:59','16:59:59','19:59:59','23:59:59','02:59:59','05:59:59']\n",
    "rev_num = list()"
   ]
  },
  {
   "cell_type": "code",
   "execution_count": 17,
   "metadata": {},
   "outputs": [],
   "source": [
    "def num_of_review2(x,y):\n",
    "    Initial_time = pd.to_datetime(x).time()\n",
    "    Final_time = pd.to_datetime(y).time()\n",
    "    review = RQ3_2[RQ3_2[\"timestamp_created\"]>=Initial_time]\n",
    "    review1 = RQ3_2[RQ3_2[\"timestamp_created\"]<=Final_time]\n",
    "    int_review = pd.merge(review, review1, how ='inner', on =['timestamp_created'])\n",
    "    rev_num.append(len(int_review))\n",
    "    print(\"Number of review:\" ,len(int_review))"
   ]
  },
  {
   "cell_type": "code",
   "execution_count": 18,
   "metadata": {},
   "outputs": [
    {
     "name": "stdout",
     "output_type": "stream",
     "text": [
      "Number of review: 125921\n",
      "Number of review: 111104\n",
      "Number of review: 140684\n",
      "Number of review: 130907\n",
      "Number of review: 128357\n",
      "Number of review: 75049\n",
      "Number of review: 68369\n"
     ]
    },
    {
     "data": {
      "text/html": [
       "<div>\n",
       "<style scoped>\n",
       "    .dataframe tbody tr th:only-of-type {\n",
       "        vertical-align: middle;\n",
       "    }\n",
       "\n",
       "    .dataframe tbody tr th {\n",
       "        vertical-align: top;\n",
       "    }\n",
       "\n",
       "    .dataframe thead th {\n",
       "        text-align: right;\n",
       "    }\n",
       "</style>\n",
       "<table border=\"1\" class=\"dataframe\">\n",
       "  <thead>\n",
       "    <tr style=\"text-align: right;\">\n",
       "      <th></th>\n",
       "      <th>Initial_time_list</th>\n",
       "      <th>Final_time_list</th>\n",
       "      <th>rev_num</th>\n",
       "    </tr>\n",
       "  </thead>\n",
       "  <tbody>\n",
       "    <tr>\n",
       "      <th>0</th>\n",
       "      <td>06:00:00</td>\n",
       "      <td>10:59:59</td>\n",
       "      <td>125921</td>\n",
       "    </tr>\n",
       "    <tr>\n",
       "      <th>1</th>\n",
       "      <td>11:00:00</td>\n",
       "      <td>13:59:59</td>\n",
       "      <td>111104</td>\n",
       "    </tr>\n",
       "    <tr>\n",
       "      <th>2</th>\n",
       "      <td>14:00:00</td>\n",
       "      <td>16:59:59</td>\n",
       "      <td>140684</td>\n",
       "    </tr>\n",
       "    <tr>\n",
       "      <th>3</th>\n",
       "      <td>17:00:00</td>\n",
       "      <td>19:59:59</td>\n",
       "      <td>130907</td>\n",
       "    </tr>\n",
       "    <tr>\n",
       "      <th>4</th>\n",
       "      <td>20:00:00</td>\n",
       "      <td>23:59:59</td>\n",
       "      <td>128357</td>\n",
       "    </tr>\n",
       "    <tr>\n",
       "      <th>5</th>\n",
       "      <td>00:00:00</td>\n",
       "      <td>02:59:59</td>\n",
       "      <td>75049</td>\n",
       "    </tr>\n",
       "    <tr>\n",
       "      <th>6</th>\n",
       "      <td>03:00:00</td>\n",
       "      <td>05:59:59</td>\n",
       "      <td>68369</td>\n",
       "    </tr>\n",
       "  </tbody>\n",
       "</table>\n",
       "</div>"
      ],
      "text/plain": [
       "  Initial_time_list Final_time_list  rev_num\n",
       "0          06:00:00        10:59:59   125921\n",
       "1          11:00:00        13:59:59   111104\n",
       "2          14:00:00        16:59:59   140684\n",
       "3          17:00:00        19:59:59   130907\n",
       "4          20:00:00        23:59:59   128357\n",
       "5          00:00:00        02:59:59    75049\n",
       "6          03:00:00        05:59:59    68369"
      ]
     },
     "execution_count": 18,
     "metadata": {},
     "output_type": "execute_result"
    }
   ],
   "source": [
    "rev_num = list()\n",
    "\n",
    "for i, j in zip(Initial_time_list, Final_time_list):\n",
    "    num_of_review2(i,j)\n",
    "df_new = pd.DataFrame({'Initial_time_list':Initial_time_list,'Final_time_list':Final_time_list,'rev_num':rev_num})\n",
    "df_new"
   ]
  },
  {
   "cell_type": "code",
   "execution_count": 19,
   "metadata": {},
   "outputs": [
    {
     "data": {
      "image/png": "[encoded data removed]",
      "text/plain": [
       "<Figure size 432x288 with 1 Axes>"
      ]
     },
     "metadata": {
      "needs_background": "light"
     },
     "output_type": "display_data"
    }
   ],
   "source": [
    "import matplotlib.pyplot as plt\n",
    "   \n",
    "data = {'Time': Initial_time_list,\n",
    "        'Review': rev_num\n",
    "       }\n",
    "  \n",
    "df_plot = pd.DataFrame(df_new,columns=['Initial_time_list','rev_num'])\n",
    "df_plot.plot(x ='Initial_time_list', y='rev_num', kind = 'line')\n",
    "plt.show()"
   ]
  },
  {
   "cell_type": "markdown",
   "metadata": {},
   "source": [
    "# RQ6"
   ]
  },
  {
   "cell_type": "markdown",
   "metadata": {},
   "source": [
    "What is the average time (days and minutes) a user lets pass before he updates a review?"
   ]
  },
  {
   "cell_type": "code",
   "execution_count": 20,
   "metadata": {},
   "outputs": [
    {
     "data": {
      "text/html": [
       "<div>\n",
       "<style scoped>\n",
       "    .dataframe tbody tr th:only-of-type {\n",
       "        vertical-align: middle;\n",
       "    }\n",
       "\n",
       "    .dataframe tbody tr th {\n",
       "        vertical-align: top;\n",
       "    }\n",
       "\n",
       "    .dataframe thead th {\n",
       "        text-align: right;\n",
       "    }\n",
       "</style>\n",
       "<table border=\"1\" class=\"dataframe\">\n",
       "  <thead>\n",
       "    <tr style=\"text-align: right;\">\n",
       "      <th></th>\n",
       "      <th>author.steamid</th>\n",
       "      <th>timestamp_created</th>\n",
       "      <th>timestamp_updated</th>\n",
       "    </tr>\n",
       "  </thead>\n",
       "  <tbody>\n",
       "    <tr>\n",
       "      <th>0</th>\n",
       "      <td>76561198273074828</td>\n",
       "      <td>2021-01-22 19:33:38</td>\n",
       "      <td>2021-01-22 19:33:38</td>\n",
       "    </tr>\n",
       "    <tr>\n",
       "      <th>1</th>\n",
       "      <td>76561199040272654</td>\n",
       "      <td>2021-01-22 14:03:33</td>\n",
       "      <td>2021-01-22 14:03:33</td>\n",
       "    </tr>\n",
       "    <tr>\n",
       "      <th>2</th>\n",
       "      <td>76561198196080886</td>\n",
       "      <td>2021-01-22 06:00:42</td>\n",
       "      <td>2021-01-22 06:00:42</td>\n",
       "    </tr>\n",
       "    <tr>\n",
       "      <th>3</th>\n",
       "      <td>76561198347082913</td>\n",
       "      <td>2021-01-21 19:18:50</td>\n",
       "      <td>2021-01-21 19:18:50</td>\n",
       "    </tr>\n",
       "    <tr>\n",
       "      <th>4</th>\n",
       "      <td>76561198183278214</td>\n",
       "      <td>2021-01-21 12:48:08</td>\n",
       "      <td>2021-01-21 12:48:08</td>\n",
       "    </tr>\n",
       "  </tbody>\n",
       "</table>\n",
       "</div>"
      ],
      "text/plain": [
       "      author.steamid   timestamp_created   timestamp_updated\n",
       "0  76561198273074828 2021-01-22 19:33:38 2021-01-22 19:33:38\n",
       "1  76561199040272654 2021-01-22 14:03:33 2021-01-22 14:03:33\n",
       "2  76561198196080886 2021-01-22 06:00:42 2021-01-22 06:00:42\n",
       "3  76561198347082913 2021-01-21 19:18:50 2021-01-21 19:18:50\n",
       "4  76561198183278214 2021-01-21 12:48:08 2021-01-21 12:48:08"
      ]
     },
     "execution_count": 20,
     "metadata": {},
     "output_type": "execute_result"
    }
   ],
   "source": [
    "#Converting to date and time format\n",
    "RQ6_1 = pd.DataFrame(df[['author.steamid','timestamp_created','timestamp_updated']])\n",
    "RQ6_1['timestamp_created'] = pd.to_datetime(RQ6_1['timestamp_created'],unit='s')\n",
    "RQ6_1['timestamp_updated'] = pd.to_datetime(RQ6_1['timestamp_updated'],unit='s')\n",
    "RQ6_1.head(5)"
   ]
  },
  {
   "cell_type": "code",
   "execution_count": 21,
   "metadata": {},
   "outputs": [
    {
     "name": "stdout",
     "output_type": "stream",
     "text": [
      "Average review update time is:  36 days 12:40:57.289502\n"
     ]
    },
    {
     "data": {
      "text/html": [
       "<div>\n",
       "<style scoped>\n",
       "    .dataframe tbody tr th:only-of-type {\n",
       "        vertical-align: middle;\n",
       "    }\n",
       "\n",
       "    .dataframe tbody tr th {\n",
       "        vertical-align: top;\n",
       "    }\n",
       "\n",
       "    .dataframe thead th {\n",
       "        text-align: right;\n",
       "    }\n",
       "</style>\n",
       "<table border=\"1\" class=\"dataframe\">\n",
       "  <thead>\n",
       "    <tr style=\"text-align: right;\">\n",
       "      <th></th>\n",
       "      <th>author.steamid</th>\n",
       "      <th>timestamp_created</th>\n",
       "      <th>timestamp_updated</th>\n",
       "      <th>time_passed</th>\n",
       "    </tr>\n",
       "  </thead>\n",
       "  <tbody>\n",
       "    <tr>\n",
       "      <th>0</th>\n",
       "      <td>76561198273074828</td>\n",
       "      <td>2021-01-22 19:33:38</td>\n",
       "      <td>2021-01-22 19:33:38</td>\n",
       "      <td>0 days</td>\n",
       "    </tr>\n",
       "    <tr>\n",
       "      <th>1</th>\n",
       "      <td>76561199040272654</td>\n",
       "      <td>2021-01-22 14:03:33</td>\n",
       "      <td>2021-01-22 14:03:33</td>\n",
       "      <td>0 days</td>\n",
       "    </tr>\n",
       "    <tr>\n",
       "      <th>2</th>\n",
       "      <td>76561198196080886</td>\n",
       "      <td>2021-01-22 06:00:42</td>\n",
       "      <td>2021-01-22 06:00:42</td>\n",
       "      <td>0 days</td>\n",
       "    </tr>\n",
       "    <tr>\n",
       "      <th>3</th>\n",
       "      <td>76561198347082913</td>\n",
       "      <td>2021-01-21 19:18:50</td>\n",
       "      <td>2021-01-21 19:18:50</td>\n",
       "      <td>0 days</td>\n",
       "    </tr>\n",
       "    <tr>\n",
       "      <th>4</th>\n",
       "      <td>76561198183278214</td>\n",
       "      <td>2021-01-21 12:48:08</td>\n",
       "      <td>2021-01-21 12:48:08</td>\n",
       "      <td>0 days</td>\n",
       "    </tr>\n",
       "  </tbody>\n",
       "</table>\n",
       "</div>"
      ],
      "text/plain": [
       "      author.steamid   timestamp_created   timestamp_updated time_passed\n",
       "0  76561198273074828 2021-01-22 19:33:38 2021-01-22 19:33:38      0 days\n",
       "1  76561199040272654 2021-01-22 14:03:33 2021-01-22 14:03:33      0 days\n",
       "2  76561198196080886 2021-01-22 06:00:42 2021-01-22 06:00:42      0 days\n",
       "3  76561198347082913 2021-01-21 19:18:50 2021-01-21 19:18:50      0 days\n",
       "4  76561198183278214 2021-01-21 12:48:08 2021-01-21 12:48:08      0 days"
      ]
     },
     "execution_count": 21,
     "metadata": {},
     "output_type": "execute_result"
    }
   ],
   "source": [
    "RQ6_1['time_passed'] = RQ6_1['timestamp_updated'] - RQ6_1['timestamp_created']\n",
    "print('Average review update time is: ',RQ6_1['time_passed'].mean())\n",
    "RQ6_1.head(5)"
   ]
  },
  {
   "cell_type": "code",
   "execution_count": 22,
   "metadata": {},
   "outputs": [
    {
     "data": {
      "text/plain": [
       "76561198148679941    4\n",
       "76561198007784964    4\n",
       "76561198113005018    4\n",
       "76561198429316256    4\n",
       "76561198202605194    4\n",
       "                    ..\n",
       "76561198201438635    1\n",
       "76561198904535462    1\n",
       "76561198079647962    1\n",
       "76561198344151455    1\n",
       "76561198227128320    1\n",
       "Name: author.steamid, Length: 214699, dtype: int64"
      ]
     },
     "execution_count": 22,
     "metadata": {},
     "output_type": "execute_result"
    }
   ],
   "source": [
    "RQ6_1['author.steamid'].value_counts()"
   ]
  },
  {
   "cell_type": "markdown",
   "metadata": {},
   "source": [
    "# TQ3"
   ]
  },
  {
   "cell_type": "markdown",
   "metadata": {},
   "source": [
    "In the knapsack problem we are given n objects and each object i has a weight w_i and a value v_i. We are also given a weight budget W. The problem is to select a set of objects with total weight bounded by W that maximized the sum of their values. The following are three natural heuristics:"
   ]
  },
  {
   "cell_type": "markdown",
   "metadata": {},
   "source": [
    "To solve knapsack we construct a table with the following dimensions.\n",
    "[n + 1][W + 1]\n",
    "The rows of the table correspond to items from 0 to n.\n",
    "The columns of the table correspond to weight limit from 0 to W.\n",
    "The index of the very last cell of the table would be : [n][W]\n",
    "Value of the cell with index [i][j] represents the maximum profit possible when considering items from 0 to i and the total weight limit as j.\n"
   ]
  },
  {
   "cell_type": "markdown",
   "metadata": {},
   "source": [
    "For each cell [i][j], we have two options :\n",
    "1. Either we include object [i] in our final selection.\n",
    "2. Or we don’t include object [i] in our final selection.\n",
    "\n",
    "There are two conditions that should be satisfied to include object [i] :\n",
    "1. The total weight after including object [i] should not exceed the weight limit.\n",
    "2. The profit after including object [i] should be greater as compared to when the object is not included."
   ]
  },
  {
   "cell_type": "code",
   "execution_count": 242,
   "metadata": {},
   "outputs": [],
   "source": [
    "def knapSack(W, wt, val): \n",
    "    n=len(val)\n",
    "    table = [[0 for x in range(W + 1)] for x in range(n + 1)] \n",
    "#We will be using nested for loops to traverse through the table and fill entires in each cell. \n",
    "\n",
    "    for i in range(n + 1): \n",
    "        for j in range(W + 1): \n",
    "            if i == 0 or j == 0:#setting the 0th row and column to 0. \n",
    "                table[i][j] = 0\n",
    "            elif wt[i-1] <= j: #checks that the weight of the i(th) object is less that the total weight permissible for that cell (j).\n",
    "                table[i][j] = max(val[i-1] + table[i-1][j-wt[i-1]],  table[i-1][j])#selecting the maximum out of the two options available to us. We can either include the object or exclude it. \n",
    "            else: \n",
    "                table[i][j] = table[i-1][j] #when the weight of ith object is greater than the permissible limit (j).\n",
    "   \n",
    "    return table[n][W] "
   ]
  },
  {
   "cell_type": "markdown",
   "metadata": {},
   "source": [
    "Order them in increasing order of weight and then visit them sequentially, adding them to the solution as long as the budget is not exceeded"
   ]
  },
  {
   "cell_type": "code",
   "execution_count": 243,
   "metadata": {},
   "outputs": [
    {
     "name": "stdout",
     "output_type": "stream",
     "text": [
      "350\n"
     ]
    }
   ],
   "source": [
    "val = [50,100,150,200]\n",
    "wt = [8,16,32,40]\n",
    "W = 64\n",
    " \n",
    "print(knapSack(W, wt, val))"
   ]
  },
  {
   "cell_type": "markdown",
   "metadata": {},
   "source": [
    "Order them in decreasing order of values, and then visit them sequentially, adding them to the solution if the budget is not exceeded"
   ]
  },
  {
   "cell_type": "code",
   "execution_count": 244,
   "metadata": {},
   "outputs": [
    {
     "name": "stdout",
     "output_type": "stream",
     "text": [
      "450\n"
     ]
    }
   ],
   "source": [
    "val = [50,100,150,200]\n",
    "wt = [40,32,16,8]\n",
    "W = 64\n",
    " \n",
    "print(knapSack(W, wt, val))"
   ]
  },
  {
   "cell_type": "markdown",
   "metadata": {},
   "source": [
    "Order them in decreasing relative value (v_i / w_i), and then visit them sequentially, adding them to the solution if the budget is not exceeded"
   ]
  },
  {
   "cell_type": "code",
   "execution_count": 245,
   "metadata": {},
   "outputs": [
    {
     "name": "stdout",
     "output_type": "stream",
     "text": [
      "350\n"
     ]
    }
   ],
   "source": [
    "val = [200,150,100,50]\n",
    "wt = [40,32,16,8]\n",
    "W = 64\n",
    " \n",
    "print(knapSack(W, wt, val))"
   ]
  }
 ],
 "metadata": {
  "kernelspec": {
   "display_name": "Python 3",
   "language": "python",
   "name": "python3"
  },
  "language_info": {
   "codemirror_mode": {
    "name": "ipython",
    "version": 3
   },
   "file_extension": ".py",
   "mimetype": "text/x-python",
   "name": "python",
   "nbconvert_exporter": "python",
   "pygments_lexer": "ipython3",
   "version": "3.7.6"
  }
 },
 "nbformat": 4,
 "nbformat_minor": 4
}
